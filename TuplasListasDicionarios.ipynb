{
  "nbformat": 4,
  "nbformat_minor": 0,
  "metadata": {
    "colab": {
      "provenance": [],
      "authorship_tag": "ABX9TyOuRxDNWU5ZEklJ9N12sx5C",
      "include_colab_link": true
    },
    "kernelspec": {
      "name": "python3",
      "display_name": "Python 3"
    },
    "language_info": {
      "name": "python"
    }
  },
  "cells": [
    {
      "cell_type": "markdown",
      "metadata": {
        "id": "view-in-github",
        "colab_type": "text"
      },
      "source": [
        "<a href=\"https://colab.research.google.com/github/alexsabrasil/tuplas-listas-dicionarios/blob/main/TuplasListasDicionarios.ipynb\" target=\"_parent\"><img src=\"https://colab.research.google.com/assets/colab-badge.svg\" alt=\"Open In Colab\"/></a>"
      ]
    },
    {
      "cell_type": "markdown",
      "source": [
        "**Exercícios - Tuplas, Listas e Dicionários | Programa de perguntas sobre um crime**\n",
        "\n",
        "1. Utilizando listas faça um programa que faça 5 perguntas para uma pessoa sobre um crime. As perguntas são:\n",
        "\n",
        "- \"\"Telefonou para a vítima?\n",
        "- \"\"\"\"Esteve no local do crime?\n",
        "- \"\"\"\"Mora perto da vítima?\n",
        "- \"\"\"\"Devia para a vítima?\n",
        "- \"\"\"\"Já trabalhou com a vítima?\"\"\n",
        "\n",
        "O programa deve no final emitir uma classificação sobre a participação da pessoa no crime. Se a pessoa responder positivamente a 2 questões ela deve ser classificada como \"\"Suspeita\"\", entre 3 e 4 como \"\"Cúmplice\"\" e 5 como \"\"Assassino\"\". Caso contrário, ele será classificado como \"\"Inocente\"\".\n"
      ],
      "metadata": {
        "id": "4qGm62VhgGQf"
      }
    },
    {
      "cell_type": "code",
      "execution_count": 1,
      "metadata": {
        "colab": {
          "base_uri": "https://localhost:8080/"
        },
        "id": "evpwftKOgDvU",
        "outputId": "a95e4aec-27de-41f9-f633-c1d351cfe3a3"
      },
      "outputs": [
        {
          "output_type": "stream",
          "name": "stdout",
          "text": [
            "Telefonou para a vítima? (sim/não): não\n",
            "Esteve no local do crime? (sim/não): sim\n",
            "Mora perto da vítima? (sim/não): sim\n",
            "Devia para a vítima? (sim/não): não\n",
            "Já trabalhou com a vítima? (sim/não): sim\n",
            "Classificação: Cúmplice\n"
          ]
        }
      ],
      "source": [
        "# Programa de perguntas sobre um crime\n",
        "\n",
        "perguntas = [\n",
        "    \"Telefonou para a vítima?\",\n",
        "    \"Esteve no local do crime?\",\n",
        "    \"Mora perto da vítima?\",\n",
        "    \"Devia para a vítima?\",\n",
        "    \"Já trabalhou com a vítima?\"\n",
        "]\n",
        "\n",
        "respostas = []\n",
        "for pergunta in perguntas:\n",
        "    resposta = input(pergunta + \" (sim/não): \").strip().lower()\n",
        "    while resposta not in ['sim', 'não']:\n",
        "        resposta = input(\"Por favor, responda com 'sim' ou 'não': \").strip().lower()\n",
        "    respostas.append(resposta)\n",
        "\n",
        "# Contar respostas 'sim'\n",
        "sim_count = respostas.count('sim')\n",
        "\n",
        "# Classificação\n",
        "if sim_count == 2:\n",
        "    classificacao = \"Suspeita\"\n",
        "elif 3 <= sim_count <= 4:\n",
        "    classificacao = \"Cúmplice\"\n",
        "elif sim_count == 5:\n",
        "    classificacao = \"Assassino\"\n",
        "else:\n",
        "    classificacao = \"Inocente\"\n",
        "\n",
        "print(f\"Classificação: {classificacao}\")\n"
      ]
    },
    {
      "cell_type": "markdown",
      "source": [
        "**Exercícios - Tuplas, Listas e Dicionários | Programa que calcula média de alunos**\n",
        "\n",
        "2. Faça um Programa que peça as quatro notas de 5 alunos, calcule e armazene numa lista a média de cada aluno, imprima o número de alunos com média maior ou igual a 7.0."
      ],
      "metadata": {
        "id": "7EBkOFLjg7_j"
      }
    },
    {
      "cell_type": "code",
      "source": [
        "# Programa que calcula médias de alunos\n",
        "\n",
        "num_alunos = 5\n",
        "notas_alunos = []\n",
        "\n",
        "for i in range(num_alunos):\n",
        "    notas = []\n",
        "    print(f\"Aluno {i+1}:\")\n",
        "    for j in range(4):\n",
        "        nota = float(input(f\"Digite a nota {j+1}: \"))\n",
        "        notas.append(nota)\n",
        "    media = sum(notas) / len(notas)\n",
        "    notas_alunos.append(media)\n",
        "\n",
        "# Contar alunos com média maior ou igual a 7.0\n",
        "alunos_aprovados = sum(1 for media in notas_alunos if media >= 7.0)\n",
        "\n",
        "print(f\"Número de alunos com média maior ou igual a 7.0: {alunos_aprovados}\")\n"
      ],
      "metadata": {
        "colab": {
          "base_uri": "https://localhost:8080/"
        },
        "id": "XbiuZd-1hJtf",
        "outputId": "00fbae57-cc5e-4bba-ff7c-1e3792a33d95"
      },
      "execution_count": 2,
      "outputs": [
        {
          "output_type": "stream",
          "name": "stdout",
          "text": [
            "Aluno 1:\n",
            "Digite a nota 1: 6\n",
            "Digite a nota 2: 8\n",
            "Digite a nota 3: 9\n",
            "Digite a nota 4: 10\n",
            "Aluno 2:\n",
            "Digite a nota 1: 9\n",
            "Digite a nota 2: 10\n",
            "Digite a nota 3: 9\n",
            "Digite a nota 4: 10\n",
            "Aluno 3:\n",
            "Digite a nota 1: 6\n",
            "Digite a nota 2: 5\n",
            "Digite a nota 3: 7\n",
            "Digite a nota 4: 6\n",
            "Aluno 4:\n",
            "Digite a nota 1: 8\n",
            "Digite a nota 2: 8\n",
            "Digite a nota 3: 9\n",
            "Digite a nota 4: 6\n",
            "Aluno 5:\n",
            "Digite a nota 1: 6\n",
            "Digite a nota 2: 5\n",
            "Digite a nota 3: 7\n",
            "Digite a nota 4: 9\n",
            "Número de alunos com média maior ou igual a 7.0: 3\n"
          ]
        }
      ]
    },
    {
      "cell_type": "markdown",
      "source": [
        "**Exercícios - Tuplas, Listas e Dicionários | Programa de carrinho de compras**\n",
        "\n",
        "3. Crie um dicionário representando um carrinho de compras. Adicione produtos (chaves) e quantidades (valores) ao carrinho. Calcule o total do carrinho de compra.\n"
      ],
      "metadata": {
        "id": "m5T5GcTihKk2"
      }
    },
    {
      "cell_type": "code",
      "source": [
        "# Programa de carrinho de compras\n",
        "\n",
        "carrinho = {}\n",
        "\n",
        "while True:\n",
        "    produto = input(\"Digite o nome do produto (ou 'sair' para terminar): \").strip()\n",
        "    if produto.lower() == 'sair':\n",
        "        break\n",
        "    quantidade = int(input(f\"Digite a quantidade de {produto}: \"))\n",
        "    carrinho[produto] = carrinho.get(produto, 0) + quantidade\n",
        "\n",
        "# Calcular o total do carrinho\n",
        "total_quantidade = sum(carrinho.values())\n",
        "\n",
        "print(f\"Total de itens no carrinho: {total_quantidade}\")\n",
        "print(\"Itens no carrinho:\")\n",
        "for produto, quantidade in carrinho.items():\n",
        "    print(f\"{produto}: {quantidade}\")\n"
      ],
      "metadata": {
        "colab": {
          "base_uri": "https://localhost:8080/"
        },
        "id": "9Y_2xrExhRfC",
        "outputId": "e2c59331-38bd-4d7a-c561-34ce30b9bc92"
      },
      "execution_count": 3,
      "outputs": [
        {
          "output_type": "stream",
          "name": "stdout",
          "text": [
            "Digite o nome do produto (ou 'sair' para terminar): leite\n",
            "Digite a quantidade de leite: 4\n",
            "Digite o nome do produto (ou 'sair' para terminar): feijão\n",
            "Digite a quantidade de feijão: 2\n",
            "Digite o nome do produto (ou 'sair' para terminar): cuscuz\n",
            "Digite a quantidade de cuscuz: 6\n",
            "Digite o nome do produto (ou 'sair' para terminar): sair\n",
            "Total de itens no carrinho: 12\n",
            "Itens no carrinho:\n",
            "leite: 4\n",
            "feijão: 2\n",
            "cuscuz: 6\n"
          ]
        }
      ]
    },
    {
      "cell_type": "markdown",
      "source": [
        "**Exercícios - Tuplas, Listas e Dicionários | Programa de contatos**\n",
        "\n",
        "4. Crie um dicionário representando contatos (nome, telefone). Permita ao usuário procurar por um contato pelo nome.\n"
      ],
      "metadata": {
        "id": "9q4inaeZhR8p"
      }
    },
    {
      "cell_type": "code",
      "source": [
        "# Programa de contatos\n",
        "\n",
        "contatos = {}\n",
        "\n",
        "while True:\n",
        "    nome = input(\"Digite o nome do contato (ou 'sair' para terminar): \").strip()\n",
        "    if nome.lower() == 'sair':\n",
        "        break\n",
        "    telefone = input(f\"Digite o telefone de {nome}: \").strip()\n",
        "    contatos[nome] = telefone\n",
        "\n",
        "# Procurar contato\n",
        "procurar = input(\"Digite o nome do contato que deseja procurar: \").strip()\n",
        "telefone = contatos.get(procurar, 'Contato não encontrado.')\n",
        "\n",
        "print(f\"Telefone de {procurar}: {telefone}\")\n"
      ],
      "metadata": {
        "colab": {
          "base_uri": "https://localhost:8080/"
        },
        "id": "V2k-ZUeIhYQR",
        "outputId": "d644bbdd-23d7-4bb2-a81f-e267ca98b535"
      },
      "execution_count": 4,
      "outputs": [
        {
          "output_type": "stream",
          "name": "stdout",
          "text": [
            "Digite o nome do contato (ou 'sair' para terminar): Maria\n",
            "Digite o telefone de Maria: 9991 1507\n",
            "Digite o nome do contato (ou 'sair' para terminar): sair\n",
            "Digite o nome do contato que deseja procurar: sandra\n",
            "Telefone de sandra: Contato não encontrado.\n"
          ]
        }
      ]
    },
    {
      "cell_type": "markdown",
      "source": [
        "**Exercícios - Tuplas, Listas e Dicionários | Programa de concatenação de tuplas**\n",
        "\n",
        "5. Crie duas tuplas. Concatene-as para formar uma nova tupla.\n"
      ],
      "metadata": {
        "id": "xExTw-LHhYrx"
      }
    },
    {
      "cell_type": "code",
      "source": [
        "# Programa de concatenação de tuplas\n",
        "\n",
        "tupla1 = (1, 2, 3)\n",
        "tupla2 = (4, 5, 6)\n",
        "tupla_concatenada = tupla1 + tupla2\n",
        "\n",
        "print(f\"Tupla concatenada: {tupla_concatenada}\")\n"
      ],
      "metadata": {
        "colab": {
          "base_uri": "https://localhost:8080/"
        },
        "id": "Bq2seFaCheg-",
        "outputId": "6063f9c0-471e-4408-8990-3c347cb86a95"
      },
      "execution_count": 6,
      "outputs": [
        {
          "output_type": "stream",
          "name": "stdout",
          "text": [
            "Tupla concatenada: (1, 2, 3, 4, 5, 6)\n"
          ]
        }
      ]
    },
    {
      "cell_type": "markdown",
      "source": [
        "**Exercícios - Tuplas, Listas e Dicionários | Programa que mostra o nome de trás para frente**\n",
        "\n",
        "6. Faça um programa que permita ao usuário digitar o seu nome e em seguida mostre o nome do usuário de trás para frente utilizando somente letras maiúsculas. Dica: Lembre-se que ao informar o nome o usuário pode digitar letras maiúsculas ou minúsculas."
      ],
      "metadata": {
        "id": "mskGljFVhe14"
      }
    },
    {
      "cell_type": "code",
      "source": [
        "# Programa que mostra o nome de trás para frente utilizando letras maiúsculas\n",
        "\n",
        "# Solicitar o nome do usuário com instruções\n",
        "print(\"Por favor, digite o seu nome (você pode usar letras maiúsculas ou minúsculas):\")\n",
        "nome = input().strip()\n",
        "\n",
        "# Inverter o nome e converter para letras maiúsculas\n",
        "nome_invertido = nome[::-1].upper()\n",
        "\n",
        "# Mostrar o nome invertido\n",
        "print(f\"Nome invertido: {nome_invertido}\")\n",
        "\n"
      ],
      "metadata": {
        "colab": {
          "base_uri": "https://localhost:8080/"
        },
        "id": "BstC4TQGhm_7",
        "outputId": "2645752e-0298-4acd-a66e-62dd4fb5effe"
      },
      "execution_count": 9,
      "outputs": [
        {
          "output_type": "stream",
          "name": "stdout",
          "text": [
            "Por favor, digite o seu nome (você pode usar letras maiúsculas ou minúsculas):\n",
            "Tavares\n",
            "Nome invertido: SERAVAT\n"
          ]
        }
      ]
    }
  ]
}